{
 "cells": [
  {
   "cell_type": "code",
   "execution_count": 1,
   "id": "7c60798b-7bcd-4238-8090-91b11940ab7f",
   "metadata": {},
   "outputs": [],
   "source": [
    "import numpy as np\n",
    "import pandas as pd\n"
   ]
  },
  {
   "cell_type": "code",
   "execution_count": 2,
   "id": "378f46a0-f2c8-496d-a8b2-f47ecd3db7fd",
   "metadata": {},
   "outputs": [],
   "source": [
    "import pandas as pd"
   ]
  },
  {
   "cell_type": "code",
   "execution_count": 3,
   "id": "721b38e9-56b1-4820-ae0f-dfbbe369c2ec",
   "metadata": {},
   "outputs": [],
   "source": [
    "df=pd.read_csv(\"Churn_Modelling.csv\")"
   ]
  },
  {
   "cell_type": "code",
   "execution_count": 4,
   "id": "8d7176d4-1467-44e4-b653-c093882fa4c1",
   "metadata": {},
   "outputs": [
    {
     "data": {
      "text/html": [
       "<div>\n",
       "<style scoped>\n",
       "    .dataframe tbody tr th:only-of-type {\n",
       "        vertical-align: middle;\n",
       "    }\n",
       "\n",
       "    .dataframe tbody tr th {\n",
       "        vertical-align: top;\n",
       "    }\n",
       "\n",
       "    .dataframe thead th {\n",
       "        text-align: right;\n",
       "    }\n",
       "</style>\n",
       "<table border=\"1\" class=\"dataframe\">\n",
       "  <thead>\n",
       "    <tr style=\"text-align: right;\">\n",
       "      <th></th>\n",
       "      <th>RowNumber</th>\n",
       "      <th>CustomerId</th>\n",
       "      <th>Surname</th>\n",
       "      <th>CreditScore</th>\n",
       "      <th>Geography</th>\n",
       "      <th>Gender</th>\n",
       "      <th>Age</th>\n",
       "      <th>Tenure</th>\n",
       "      <th>Balance</th>\n",
       "      <th>NumOfProducts</th>\n",
       "      <th>HasCrCard</th>\n",
       "      <th>IsActiveMember</th>\n",
       "      <th>EstimatedSalary</th>\n",
       "      <th>Exited</th>\n",
       "    </tr>\n",
       "  </thead>\n",
       "  <tbody>\n",
       "    <tr>\n",
       "      <th>0</th>\n",
       "      <td>1</td>\n",
       "      <td>15634602</td>\n",
       "      <td>Hargrave</td>\n",
       "      <td>619</td>\n",
       "      <td>France</td>\n",
       "      <td>Female</td>\n",
       "      <td>42</td>\n",
       "      <td>2</td>\n",
       "      <td>0.00</td>\n",
       "      <td>1</td>\n",
       "      <td>1</td>\n",
       "      <td>1</td>\n",
       "      <td>101348.88</td>\n",
       "      <td>1</td>\n",
       "    </tr>\n",
       "    <tr>\n",
       "      <th>1</th>\n",
       "      <td>2</td>\n",
       "      <td>15647311</td>\n",
       "      <td>Hill</td>\n",
       "      <td>608</td>\n",
       "      <td>Spain</td>\n",
       "      <td>Female</td>\n",
       "      <td>41</td>\n",
       "      <td>1</td>\n",
       "      <td>83807.86</td>\n",
       "      <td>1</td>\n",
       "      <td>0</td>\n",
       "      <td>1</td>\n",
       "      <td>112542.58</td>\n",
       "      <td>0</td>\n",
       "    </tr>\n",
       "    <tr>\n",
       "      <th>2</th>\n",
       "      <td>3</td>\n",
       "      <td>15619304</td>\n",
       "      <td>Onio</td>\n",
       "      <td>502</td>\n",
       "      <td>France</td>\n",
       "      <td>Female</td>\n",
       "      <td>42</td>\n",
       "      <td>8</td>\n",
       "      <td>159660.80</td>\n",
       "      <td>3</td>\n",
       "      <td>1</td>\n",
       "      <td>0</td>\n",
       "      <td>113931.57</td>\n",
       "      <td>1</td>\n",
       "    </tr>\n",
       "    <tr>\n",
       "      <th>3</th>\n",
       "      <td>4</td>\n",
       "      <td>15701354</td>\n",
       "      <td>Boni</td>\n",
       "      <td>699</td>\n",
       "      <td>France</td>\n",
       "      <td>Female</td>\n",
       "      <td>39</td>\n",
       "      <td>1</td>\n",
       "      <td>0.00</td>\n",
       "      <td>2</td>\n",
       "      <td>0</td>\n",
       "      <td>0</td>\n",
       "      <td>93826.63</td>\n",
       "      <td>0</td>\n",
       "    </tr>\n",
       "    <tr>\n",
       "      <th>4</th>\n",
       "      <td>5</td>\n",
       "      <td>15737888</td>\n",
       "      <td>Mitchell</td>\n",
       "      <td>850</td>\n",
       "      <td>Spain</td>\n",
       "      <td>Female</td>\n",
       "      <td>43</td>\n",
       "      <td>2</td>\n",
       "      <td>125510.82</td>\n",
       "      <td>1</td>\n",
       "      <td>1</td>\n",
       "      <td>1</td>\n",
       "      <td>79084.10</td>\n",
       "      <td>0</td>\n",
       "    </tr>\n",
       "  </tbody>\n",
       "</table>\n",
       "</div>"
      ],
      "text/plain": [
       "   RowNumber  CustomerId   Surname  CreditScore Geography  Gender  Age  \\\n",
       "0          1    15634602  Hargrave          619    France  Female   42   \n",
       "1          2    15647311      Hill          608     Spain  Female   41   \n",
       "2          3    15619304      Onio          502    France  Female   42   \n",
       "3          4    15701354      Boni          699    France  Female   39   \n",
       "4          5    15737888  Mitchell          850     Spain  Female   43   \n",
       "\n",
       "   Tenure    Balance  NumOfProducts  HasCrCard  IsActiveMember  \\\n",
       "0       2       0.00              1          1               1   \n",
       "1       1   83807.86              1          0               1   \n",
       "2       8  159660.80              3          1               0   \n",
       "3       1       0.00              2          0               0   \n",
       "4       2  125510.82              1          1               1   \n",
       "\n",
       "   EstimatedSalary  Exited  \n",
       "0        101348.88       1  \n",
       "1        112542.58       0  \n",
       "2        113931.57       1  \n",
       "3         93826.63       0  \n",
       "4         79084.10       0  "
      ]
     },
     "execution_count": 4,
     "metadata": {},
     "output_type": "execute_result"
    }
   ],
   "source": [
    "df.head()"
   ]
  },
  {
   "cell_type": "code",
   "execution_count": 5,
   "id": "305f6b8e-47f8-42b6-9784-9753c4092453",
   "metadata": {},
   "outputs": [
    {
     "data": {
      "text/plain": [
       "(10000, 14)"
      ]
     },
     "execution_count": 5,
     "metadata": {},
     "output_type": "execute_result"
    }
   ],
   "source": [
    "df.shape"
   ]
  },
  {
   "cell_type": "code",
   "execution_count": 6,
   "id": "70077a62-277f-4deb-9be0-ae00e09da967",
   "metadata": {},
   "outputs": [
    {
     "name": "stdout",
     "output_type": "stream",
     "text": [
      "<class 'pandas.core.frame.DataFrame'>\n",
      "RangeIndex: 10000 entries, 0 to 9999\n",
      "Data columns (total 14 columns):\n",
      " #   Column           Non-Null Count  Dtype  \n",
      "---  ------           --------------  -----  \n",
      " 0   RowNumber        10000 non-null  int64  \n",
      " 1   CustomerId       10000 non-null  int64  \n",
      " 2   Surname          10000 non-null  object \n",
      " 3   CreditScore      10000 non-null  int64  \n",
      " 4   Geography        10000 non-null  object \n",
      " 5   Gender           10000 non-null  object \n",
      " 6   Age              10000 non-null  int64  \n",
      " 7   Tenure           10000 non-null  int64  \n",
      " 8   Balance          10000 non-null  float64\n",
      " 9   NumOfProducts    10000 non-null  int64  \n",
      " 10  HasCrCard        10000 non-null  int64  \n",
      " 11  IsActiveMember   10000 non-null  int64  \n",
      " 12  EstimatedSalary  10000 non-null  float64\n",
      " 13  Exited           10000 non-null  int64  \n",
      "dtypes: float64(2), int64(9), object(3)\n",
      "memory usage: 1.1+ MB\n"
     ]
    }
   ],
   "source": [
    "df.info()"
   ]
  },
  {
   "cell_type": "code",
   "execution_count": 7,
   "id": "5f58c76d-c5ae-4e12-a12c-6179cce3f023",
   "metadata": {},
   "outputs": [
    {
     "data": {
      "text/plain": [
       "0"
      ]
     },
     "execution_count": 7,
     "metadata": {},
     "output_type": "execute_result"
    }
   ],
   "source": [
    "df.duplicated().sum()"
   ]
  },
  {
   "cell_type": "code",
   "execution_count": 8,
   "id": "0bc46de8-a837-4a0c-984a-3028ca0b5a1b",
   "metadata": {},
   "outputs": [
    {
     "data": {
      "text/plain": [
       "Exited\n",
       "0    7963\n",
       "1    2037\n",
       "Name: count, dtype: int64"
      ]
     },
     "execution_count": 8,
     "metadata": {},
     "output_type": "execute_result"
    }
   ],
   "source": [
    "df['Exited'].value_counts()"
   ]
  },
  {
   "cell_type": "code",
   "execution_count": 9,
   "id": "bd9f32c3-ed38-4992-8478-a51d04b331e1",
   "metadata": {},
   "outputs": [
    {
     "data": {
      "text/plain": [
       "Geography\n",
       "France     5014\n",
       "Germany    2509\n",
       "Spain      2477\n",
       "Name: count, dtype: int64"
      ]
     },
     "execution_count": 9,
     "metadata": {},
     "output_type": "execute_result"
    }
   ],
   "source": [
    "df['Geography'].value_counts()"
   ]
  },
  {
   "cell_type": "code",
   "execution_count": 10,
   "id": "bf8f9a7b-74b2-4520-9d1e-8be5d8660026",
   "metadata": {},
   "outputs": [
    {
     "data": {
      "text/plain": [
       "Gender\n",
       "Male      5457\n",
       "Female    4543\n",
       "Name: count, dtype: int64"
      ]
     },
     "execution_count": 10,
     "metadata": {},
     "output_type": "execute_result"
    }
   ],
   "source": [
    "df['Gender'].value_counts()"
   ]
  },
  {
   "cell_type": "code",
   "execution_count": 11,
   "id": "ba6fe57d-da46-4814-971c-6a30f49f74b4",
   "metadata": {},
   "outputs": [],
   "source": [
    "df.drop(['RowNumber',\"CustomerId\",\"Surname\"],axis=1,inplace=True)"
   ]
  },
  {
   "cell_type": "code",
   "execution_count": 12,
   "id": "27f7523f-4005-4fad-852b-d027a432dce4",
   "metadata": {},
   "outputs": [
    {
     "data": {
      "text/html": [
       "<div>\n",
       "<style scoped>\n",
       "    .dataframe tbody tr th:only-of-type {\n",
       "        vertical-align: middle;\n",
       "    }\n",
       "\n",
       "    .dataframe tbody tr th {\n",
       "        vertical-align: top;\n",
       "    }\n",
       "\n",
       "    .dataframe thead th {\n",
       "        text-align: right;\n",
       "    }\n",
       "</style>\n",
       "<table border=\"1\" class=\"dataframe\">\n",
       "  <thead>\n",
       "    <tr style=\"text-align: right;\">\n",
       "      <th></th>\n",
       "      <th>CreditScore</th>\n",
       "      <th>Geography</th>\n",
       "      <th>Gender</th>\n",
       "      <th>Age</th>\n",
       "      <th>Tenure</th>\n",
       "      <th>Balance</th>\n",
       "      <th>NumOfProducts</th>\n",
       "      <th>HasCrCard</th>\n",
       "      <th>IsActiveMember</th>\n",
       "      <th>EstimatedSalary</th>\n",
       "      <th>Exited</th>\n",
       "    </tr>\n",
       "  </thead>\n",
       "  <tbody>\n",
       "    <tr>\n",
       "      <th>0</th>\n",
       "      <td>619</td>\n",
       "      <td>France</td>\n",
       "      <td>Female</td>\n",
       "      <td>42</td>\n",
       "      <td>2</td>\n",
       "      <td>0.00</td>\n",
       "      <td>1</td>\n",
       "      <td>1</td>\n",
       "      <td>1</td>\n",
       "      <td>101348.88</td>\n",
       "      <td>1</td>\n",
       "    </tr>\n",
       "    <tr>\n",
       "      <th>1</th>\n",
       "      <td>608</td>\n",
       "      <td>Spain</td>\n",
       "      <td>Female</td>\n",
       "      <td>41</td>\n",
       "      <td>1</td>\n",
       "      <td>83807.86</td>\n",
       "      <td>1</td>\n",
       "      <td>0</td>\n",
       "      <td>1</td>\n",
       "      <td>112542.58</td>\n",
       "      <td>0</td>\n",
       "    </tr>\n",
       "    <tr>\n",
       "      <th>2</th>\n",
       "      <td>502</td>\n",
       "      <td>France</td>\n",
       "      <td>Female</td>\n",
       "      <td>42</td>\n",
       "      <td>8</td>\n",
       "      <td>159660.80</td>\n",
       "      <td>3</td>\n",
       "      <td>1</td>\n",
       "      <td>0</td>\n",
       "      <td>113931.57</td>\n",
       "      <td>1</td>\n",
       "    </tr>\n",
       "    <tr>\n",
       "      <th>3</th>\n",
       "      <td>699</td>\n",
       "      <td>France</td>\n",
       "      <td>Female</td>\n",
       "      <td>39</td>\n",
       "      <td>1</td>\n",
       "      <td>0.00</td>\n",
       "      <td>2</td>\n",
       "      <td>0</td>\n",
       "      <td>0</td>\n",
       "      <td>93826.63</td>\n",
       "      <td>0</td>\n",
       "    </tr>\n",
       "    <tr>\n",
       "      <th>4</th>\n",
       "      <td>850</td>\n",
       "      <td>Spain</td>\n",
       "      <td>Female</td>\n",
       "      <td>43</td>\n",
       "      <td>2</td>\n",
       "      <td>125510.82</td>\n",
       "      <td>1</td>\n",
       "      <td>1</td>\n",
       "      <td>1</td>\n",
       "      <td>79084.10</td>\n",
       "      <td>0</td>\n",
       "    </tr>\n",
       "  </tbody>\n",
       "</table>\n",
       "</div>"
      ],
      "text/plain": [
       "   CreditScore Geography  Gender  Age  Tenure    Balance  NumOfProducts  \\\n",
       "0          619    France  Female   42       2       0.00              1   \n",
       "1          608     Spain  Female   41       1   83807.86              1   \n",
       "2          502    France  Female   42       8  159660.80              3   \n",
       "3          699    France  Female   39       1       0.00              2   \n",
       "4          850     Spain  Female   43       2  125510.82              1   \n",
       "\n",
       "   HasCrCard  IsActiveMember  EstimatedSalary  Exited  \n",
       "0          1               1        101348.88       1  \n",
       "1          0               1        112542.58       0  \n",
       "2          1               0        113931.57       1  \n",
       "3          0               0         93826.63       0  \n",
       "4          1               1         79084.10       0  "
      ]
     },
     "execution_count": 12,
     "metadata": {},
     "output_type": "execute_result"
    }
   ],
   "source": [
    "df.head()"
   ]
  },
  {
   "cell_type": "markdown",
   "id": "b4613396-764d-493d-a989-39fbae6eb64f",
   "metadata": {},
   "source": [
    "### Data Pre-processing"
   ]
  },
  {
   "cell_type": "code",
   "execution_count": 13,
   "id": "021e1829-a7a1-4c66-89df-3928ad479ca0",
   "metadata": {},
   "outputs": [],
   "source": [
    "df=pd.get_dummies(df,columns=['Geography','Gender'],prefix=['Geo',\"Gender\"],drop_first=False,dtype=int,)"
   ]
  },
  {
   "cell_type": "code",
   "execution_count": 14,
   "id": "c253cdfb-aada-43cc-9441-48accd537883",
   "metadata": {},
   "outputs": [],
   "source": [
    "x=df.drop(['Exited'],axis=1)\n",
    "y=df['Exited']"
   ]
  },
  {
   "cell_type": "code",
   "execution_count": 15,
   "id": "cb1af905-887c-4a6e-b569-ef24d7b5b53d",
   "metadata": {},
   "outputs": [
    {
     "data": {
      "text/html": [
       "<div>\n",
       "<style scoped>\n",
       "    .dataframe tbody tr th:only-of-type {\n",
       "        vertical-align: middle;\n",
       "    }\n",
       "\n",
       "    .dataframe tbody tr th {\n",
       "        vertical-align: top;\n",
       "    }\n",
       "\n",
       "    .dataframe thead th {\n",
       "        text-align: right;\n",
       "    }\n",
       "</style>\n",
       "<table border=\"1\" class=\"dataframe\">\n",
       "  <thead>\n",
       "    <tr style=\"text-align: right;\">\n",
       "      <th></th>\n",
       "      <th>CreditScore</th>\n",
       "      <th>Age</th>\n",
       "      <th>Tenure</th>\n",
       "      <th>Balance</th>\n",
       "      <th>NumOfProducts</th>\n",
       "      <th>HasCrCard</th>\n",
       "      <th>IsActiveMember</th>\n",
       "      <th>EstimatedSalary</th>\n",
       "      <th>Geo_France</th>\n",
       "      <th>Geo_Germany</th>\n",
       "      <th>Geo_Spain</th>\n",
       "      <th>Gender_Female</th>\n",
       "      <th>Gender_Male</th>\n",
       "    </tr>\n",
       "  </thead>\n",
       "  <tbody>\n",
       "    <tr>\n",
       "      <th>0</th>\n",
       "      <td>619</td>\n",
       "      <td>42</td>\n",
       "      <td>2</td>\n",
       "      <td>0.00</td>\n",
       "      <td>1</td>\n",
       "      <td>1</td>\n",
       "      <td>1</td>\n",
       "      <td>101348.88</td>\n",
       "      <td>1</td>\n",
       "      <td>0</td>\n",
       "      <td>0</td>\n",
       "      <td>1</td>\n",
       "      <td>0</td>\n",
       "    </tr>\n",
       "    <tr>\n",
       "      <th>1</th>\n",
       "      <td>608</td>\n",
       "      <td>41</td>\n",
       "      <td>1</td>\n",
       "      <td>83807.86</td>\n",
       "      <td>1</td>\n",
       "      <td>0</td>\n",
       "      <td>1</td>\n",
       "      <td>112542.58</td>\n",
       "      <td>0</td>\n",
       "      <td>0</td>\n",
       "      <td>1</td>\n",
       "      <td>1</td>\n",
       "      <td>0</td>\n",
       "    </tr>\n",
       "    <tr>\n",
       "      <th>2</th>\n",
       "      <td>502</td>\n",
       "      <td>42</td>\n",
       "      <td>8</td>\n",
       "      <td>159660.80</td>\n",
       "      <td>3</td>\n",
       "      <td>1</td>\n",
       "      <td>0</td>\n",
       "      <td>113931.57</td>\n",
       "      <td>1</td>\n",
       "      <td>0</td>\n",
       "      <td>0</td>\n",
       "      <td>1</td>\n",
       "      <td>0</td>\n",
       "    </tr>\n",
       "    <tr>\n",
       "      <th>3</th>\n",
       "      <td>699</td>\n",
       "      <td>39</td>\n",
       "      <td>1</td>\n",
       "      <td>0.00</td>\n",
       "      <td>2</td>\n",
       "      <td>0</td>\n",
       "      <td>0</td>\n",
       "      <td>93826.63</td>\n",
       "      <td>1</td>\n",
       "      <td>0</td>\n",
       "      <td>0</td>\n",
       "      <td>1</td>\n",
       "      <td>0</td>\n",
       "    </tr>\n",
       "    <tr>\n",
       "      <th>4</th>\n",
       "      <td>850</td>\n",
       "      <td>43</td>\n",
       "      <td>2</td>\n",
       "      <td>125510.82</td>\n",
       "      <td>1</td>\n",
       "      <td>1</td>\n",
       "      <td>1</td>\n",
       "      <td>79084.10</td>\n",
       "      <td>0</td>\n",
       "      <td>0</td>\n",
       "      <td>1</td>\n",
       "      <td>1</td>\n",
       "      <td>0</td>\n",
       "    </tr>\n",
       "    <tr>\n",
       "      <th>...</th>\n",
       "      <td>...</td>\n",
       "      <td>...</td>\n",
       "      <td>...</td>\n",
       "      <td>...</td>\n",
       "      <td>...</td>\n",
       "      <td>...</td>\n",
       "      <td>...</td>\n",
       "      <td>...</td>\n",
       "      <td>...</td>\n",
       "      <td>...</td>\n",
       "      <td>...</td>\n",
       "      <td>...</td>\n",
       "      <td>...</td>\n",
       "    </tr>\n",
       "    <tr>\n",
       "      <th>9995</th>\n",
       "      <td>771</td>\n",
       "      <td>39</td>\n",
       "      <td>5</td>\n",
       "      <td>0.00</td>\n",
       "      <td>2</td>\n",
       "      <td>1</td>\n",
       "      <td>0</td>\n",
       "      <td>96270.64</td>\n",
       "      <td>1</td>\n",
       "      <td>0</td>\n",
       "      <td>0</td>\n",
       "      <td>0</td>\n",
       "      <td>1</td>\n",
       "    </tr>\n",
       "    <tr>\n",
       "      <th>9996</th>\n",
       "      <td>516</td>\n",
       "      <td>35</td>\n",
       "      <td>10</td>\n",
       "      <td>57369.61</td>\n",
       "      <td>1</td>\n",
       "      <td>1</td>\n",
       "      <td>1</td>\n",
       "      <td>101699.77</td>\n",
       "      <td>1</td>\n",
       "      <td>0</td>\n",
       "      <td>0</td>\n",
       "      <td>0</td>\n",
       "      <td>1</td>\n",
       "    </tr>\n",
       "    <tr>\n",
       "      <th>9997</th>\n",
       "      <td>709</td>\n",
       "      <td>36</td>\n",
       "      <td>7</td>\n",
       "      <td>0.00</td>\n",
       "      <td>1</td>\n",
       "      <td>0</td>\n",
       "      <td>1</td>\n",
       "      <td>42085.58</td>\n",
       "      <td>1</td>\n",
       "      <td>0</td>\n",
       "      <td>0</td>\n",
       "      <td>1</td>\n",
       "      <td>0</td>\n",
       "    </tr>\n",
       "    <tr>\n",
       "      <th>9998</th>\n",
       "      <td>772</td>\n",
       "      <td>42</td>\n",
       "      <td>3</td>\n",
       "      <td>75075.31</td>\n",
       "      <td>2</td>\n",
       "      <td>1</td>\n",
       "      <td>0</td>\n",
       "      <td>92888.52</td>\n",
       "      <td>0</td>\n",
       "      <td>1</td>\n",
       "      <td>0</td>\n",
       "      <td>0</td>\n",
       "      <td>1</td>\n",
       "    </tr>\n",
       "    <tr>\n",
       "      <th>9999</th>\n",
       "      <td>792</td>\n",
       "      <td>28</td>\n",
       "      <td>4</td>\n",
       "      <td>130142.79</td>\n",
       "      <td>1</td>\n",
       "      <td>1</td>\n",
       "      <td>0</td>\n",
       "      <td>38190.78</td>\n",
       "      <td>1</td>\n",
       "      <td>0</td>\n",
       "      <td>0</td>\n",
       "      <td>1</td>\n",
       "      <td>0</td>\n",
       "    </tr>\n",
       "  </tbody>\n",
       "</table>\n",
       "<p>10000 rows × 13 columns</p>\n",
       "</div>"
      ],
      "text/plain": [
       "      CreditScore  Age  Tenure    Balance  NumOfProducts  HasCrCard  \\\n",
       "0             619   42       2       0.00              1          1   \n",
       "1             608   41       1   83807.86              1          0   \n",
       "2             502   42       8  159660.80              3          1   \n",
       "3             699   39       1       0.00              2          0   \n",
       "4             850   43       2  125510.82              1          1   \n",
       "...           ...  ...     ...        ...            ...        ...   \n",
       "9995          771   39       5       0.00              2          1   \n",
       "9996          516   35      10   57369.61              1          1   \n",
       "9997          709   36       7       0.00              1          0   \n",
       "9998          772   42       3   75075.31              2          1   \n",
       "9999          792   28       4  130142.79              1          1   \n",
       "\n",
       "      IsActiveMember  EstimatedSalary  Geo_France  Geo_Germany  Geo_Spain  \\\n",
       "0                  1        101348.88           1            0          0   \n",
       "1                  1        112542.58           0            0          1   \n",
       "2                  0        113931.57           1            0          0   \n",
       "3                  0         93826.63           1            0          0   \n",
       "4                  1         79084.10           0            0          1   \n",
       "...              ...              ...         ...          ...        ...   \n",
       "9995               0         96270.64           1            0          0   \n",
       "9996               1        101699.77           1            0          0   \n",
       "9997               1         42085.58           1            0          0   \n",
       "9998               0         92888.52           0            1          0   \n",
       "9999               0         38190.78           1            0          0   \n",
       "\n",
       "      Gender_Female  Gender_Male  \n",
       "0                 1            0  \n",
       "1                 1            0  \n",
       "2                 1            0  \n",
       "3                 1            0  \n",
       "4                 1            0  \n",
       "...             ...          ...  \n",
       "9995              0            1  \n",
       "9996              0            1  \n",
       "9997              1            0  \n",
       "9998              0            1  \n",
       "9999              1            0  \n",
       "\n",
       "[10000 rows x 13 columns]"
      ]
     },
     "execution_count": 15,
     "metadata": {},
     "output_type": "execute_result"
    }
   ],
   "source": [
    "x"
   ]
  },
  {
   "cell_type": "markdown",
   "id": "70842217-c480-4b06-aa79-7e4922def9be",
   "metadata": {},
   "source": [
    "### Splitting"
   ]
  },
  {
   "cell_type": "code",
   "execution_count": 16,
   "id": "fb1e6356-fada-4d01-967f-0ca9932637af",
   "metadata": {},
   "outputs": [],
   "source": [
    "from sklearn.model_selection import train_test_split"
   ]
  },
  {
   "cell_type": "code",
   "execution_count": 17,
   "id": "1b364c6c-25a0-4ed0-b0fa-14df16abb613",
   "metadata": {},
   "outputs": [],
   "source": [
    "x_train,x_test,y_train,y_test=train_test_split(x,y,random_state=42,test_size=0.2)"
   ]
  },
  {
   "cell_type": "code",
   "execution_count": 18,
   "id": "fcb813b4-f677-4d4c-9c5e-ee2c9bb8ec21",
   "metadata": {},
   "outputs": [
    {
     "data": {
      "text/plain": [
       "(8000, 13)"
      ]
     },
     "execution_count": 18,
     "metadata": {},
     "output_type": "execute_result"
    }
   ],
   "source": [
    "x_train.shape"
   ]
  },
  {
   "cell_type": "code",
   "execution_count": 19,
   "id": "483fd790-6fb4-4937-aee3-f3d8aea53396",
   "metadata": {},
   "outputs": [
    {
     "data": {
      "text/html": [
       "<div>\n",
       "<style scoped>\n",
       "    .dataframe tbody tr th:only-of-type {\n",
       "        vertical-align: middle;\n",
       "    }\n",
       "\n",
       "    .dataframe tbody tr th {\n",
       "        vertical-align: top;\n",
       "    }\n",
       "\n",
       "    .dataframe thead th {\n",
       "        text-align: right;\n",
       "    }\n",
       "</style>\n",
       "<table border=\"1\" class=\"dataframe\">\n",
       "  <thead>\n",
       "    <tr style=\"text-align: right;\">\n",
       "      <th></th>\n",
       "      <th>CreditScore</th>\n",
       "      <th>Age</th>\n",
       "      <th>Tenure</th>\n",
       "      <th>Balance</th>\n",
       "      <th>NumOfProducts</th>\n",
       "      <th>HasCrCard</th>\n",
       "      <th>IsActiveMember</th>\n",
       "      <th>EstimatedSalary</th>\n",
       "      <th>Geo_France</th>\n",
       "      <th>Geo_Germany</th>\n",
       "      <th>Geo_Spain</th>\n",
       "      <th>Gender_Female</th>\n",
       "      <th>Gender_Male</th>\n",
       "    </tr>\n",
       "  </thead>\n",
       "  <tbody>\n",
       "    <tr>\n",
       "      <th>9254</th>\n",
       "      <td>686</td>\n",
       "      <td>32</td>\n",
       "      <td>6</td>\n",
       "      <td>0.00</td>\n",
       "      <td>2</td>\n",
       "      <td>1</td>\n",
       "      <td>1</td>\n",
       "      <td>179093.26</td>\n",
       "      <td>1</td>\n",
       "      <td>0</td>\n",
       "      <td>0</td>\n",
       "      <td>0</td>\n",
       "      <td>1</td>\n",
       "    </tr>\n",
       "    <tr>\n",
       "      <th>1561</th>\n",
       "      <td>632</td>\n",
       "      <td>42</td>\n",
       "      <td>4</td>\n",
       "      <td>119624.60</td>\n",
       "      <td>2</td>\n",
       "      <td>1</td>\n",
       "      <td>1</td>\n",
       "      <td>195978.86</td>\n",
       "      <td>0</td>\n",
       "      <td>1</td>\n",
       "      <td>0</td>\n",
       "      <td>0</td>\n",
       "      <td>1</td>\n",
       "    </tr>\n",
       "    <tr>\n",
       "      <th>1670</th>\n",
       "      <td>559</td>\n",
       "      <td>24</td>\n",
       "      <td>3</td>\n",
       "      <td>114739.92</td>\n",
       "      <td>1</td>\n",
       "      <td>1</td>\n",
       "      <td>0</td>\n",
       "      <td>85891.02</td>\n",
       "      <td>0</td>\n",
       "      <td>0</td>\n",
       "      <td>1</td>\n",
       "      <td>0</td>\n",
       "      <td>1</td>\n",
       "    </tr>\n",
       "    <tr>\n",
       "      <th>6087</th>\n",
       "      <td>561</td>\n",
       "      <td>27</td>\n",
       "      <td>9</td>\n",
       "      <td>135637.00</td>\n",
       "      <td>1</td>\n",
       "      <td>1</td>\n",
       "      <td>0</td>\n",
       "      <td>153080.40</td>\n",
       "      <td>1</td>\n",
       "      <td>0</td>\n",
       "      <td>0</td>\n",
       "      <td>1</td>\n",
       "      <td>0</td>\n",
       "    </tr>\n",
       "    <tr>\n",
       "      <th>6669</th>\n",
       "      <td>517</td>\n",
       "      <td>56</td>\n",
       "      <td>9</td>\n",
       "      <td>142147.32</td>\n",
       "      <td>1</td>\n",
       "      <td>0</td>\n",
       "      <td>0</td>\n",
       "      <td>39488.04</td>\n",
       "      <td>1</td>\n",
       "      <td>0</td>\n",
       "      <td>0</td>\n",
       "      <td>0</td>\n",
       "      <td>1</td>\n",
       "    </tr>\n",
       "    <tr>\n",
       "      <th>...</th>\n",
       "      <td>...</td>\n",
       "      <td>...</td>\n",
       "      <td>...</td>\n",
       "      <td>...</td>\n",
       "      <td>...</td>\n",
       "      <td>...</td>\n",
       "      <td>...</td>\n",
       "      <td>...</td>\n",
       "      <td>...</td>\n",
       "      <td>...</td>\n",
       "      <td>...</td>\n",
       "      <td>...</td>\n",
       "      <td>...</td>\n",
       "    </tr>\n",
       "    <tr>\n",
       "      <th>5734</th>\n",
       "      <td>768</td>\n",
       "      <td>54</td>\n",
       "      <td>8</td>\n",
       "      <td>69712.74</td>\n",
       "      <td>1</td>\n",
       "      <td>1</td>\n",
       "      <td>1</td>\n",
       "      <td>69381.05</td>\n",
       "      <td>1</td>\n",
       "      <td>0</td>\n",
       "      <td>0</td>\n",
       "      <td>0</td>\n",
       "      <td>1</td>\n",
       "    </tr>\n",
       "    <tr>\n",
       "      <th>5191</th>\n",
       "      <td>682</td>\n",
       "      <td>58</td>\n",
       "      <td>1</td>\n",
       "      <td>0.00</td>\n",
       "      <td>1</td>\n",
       "      <td>1</td>\n",
       "      <td>1</td>\n",
       "      <td>706.50</td>\n",
       "      <td>1</td>\n",
       "      <td>0</td>\n",
       "      <td>0</td>\n",
       "      <td>1</td>\n",
       "      <td>0</td>\n",
       "    </tr>\n",
       "    <tr>\n",
       "      <th>5390</th>\n",
       "      <td>735</td>\n",
       "      <td>38</td>\n",
       "      <td>1</td>\n",
       "      <td>0.00</td>\n",
       "      <td>3</td>\n",
       "      <td>0</td>\n",
       "      <td>0</td>\n",
       "      <td>92220.12</td>\n",
       "      <td>1</td>\n",
       "      <td>0</td>\n",
       "      <td>0</td>\n",
       "      <td>1</td>\n",
       "      <td>0</td>\n",
       "    </tr>\n",
       "    <tr>\n",
       "      <th>860</th>\n",
       "      <td>667</td>\n",
       "      <td>43</td>\n",
       "      <td>8</td>\n",
       "      <td>190227.46</td>\n",
       "      <td>1</td>\n",
       "      <td>1</td>\n",
       "      <td>0</td>\n",
       "      <td>97508.04</td>\n",
       "      <td>1</td>\n",
       "      <td>0</td>\n",
       "      <td>0</td>\n",
       "      <td>0</td>\n",
       "      <td>1</td>\n",
       "    </tr>\n",
       "    <tr>\n",
       "      <th>7270</th>\n",
       "      <td>697</td>\n",
       "      <td>51</td>\n",
       "      <td>1</td>\n",
       "      <td>147910.30</td>\n",
       "      <td>1</td>\n",
       "      <td>1</td>\n",
       "      <td>1</td>\n",
       "      <td>53581.14</td>\n",
       "      <td>0</td>\n",
       "      <td>1</td>\n",
       "      <td>0</td>\n",
       "      <td>0</td>\n",
       "      <td>1</td>\n",
       "    </tr>\n",
       "  </tbody>\n",
       "</table>\n",
       "<p>8000 rows × 13 columns</p>\n",
       "</div>"
      ],
      "text/plain": [
       "      CreditScore  Age  Tenure    Balance  NumOfProducts  HasCrCard  \\\n",
       "9254          686   32       6       0.00              2          1   \n",
       "1561          632   42       4  119624.60              2          1   \n",
       "1670          559   24       3  114739.92              1          1   \n",
       "6087          561   27       9  135637.00              1          1   \n",
       "6669          517   56       9  142147.32              1          0   \n",
       "...           ...  ...     ...        ...            ...        ...   \n",
       "5734          768   54       8   69712.74              1          1   \n",
       "5191          682   58       1       0.00              1          1   \n",
       "5390          735   38       1       0.00              3          0   \n",
       "860           667   43       8  190227.46              1          1   \n",
       "7270          697   51       1  147910.30              1          1   \n",
       "\n",
       "      IsActiveMember  EstimatedSalary  Geo_France  Geo_Germany  Geo_Spain  \\\n",
       "9254               1        179093.26           1            0          0   \n",
       "1561               1        195978.86           0            1          0   \n",
       "1670               0         85891.02           0            0          1   \n",
       "6087               0        153080.40           1            0          0   \n",
       "6669               0         39488.04           1            0          0   \n",
       "...              ...              ...         ...          ...        ...   \n",
       "5734               1         69381.05           1            0          0   \n",
       "5191               1           706.50           1            0          0   \n",
       "5390               0         92220.12           1            0          0   \n",
       "860                0         97508.04           1            0          0   \n",
       "7270               1         53581.14           0            1          0   \n",
       "\n",
       "      Gender_Female  Gender_Male  \n",
       "9254              0            1  \n",
       "1561              0            1  \n",
       "1670              0            1  \n",
       "6087              1            0  \n",
       "6669              0            1  \n",
       "...             ...          ...  \n",
       "5734              0            1  \n",
       "5191              1            0  \n",
       "5390              1            0  \n",
       "860               0            1  \n",
       "7270              0            1  \n",
       "\n",
       "[8000 rows x 13 columns]"
      ]
     },
     "execution_count": 19,
     "metadata": {},
     "output_type": "execute_result"
    }
   ],
   "source": [
    "x_train"
   ]
  },
  {
   "cell_type": "code",
   "execution_count": 20,
   "id": "7ecc01f1-6bc4-4b8f-a329-3b6ff6657a06",
   "metadata": {},
   "outputs": [
    {
     "data": {
      "text/plain": [
       "6252    0\n",
       "4684    0\n",
       "1731    0\n",
       "4742    0\n",
       "4521    0\n",
       "       ..\n",
       "6412    1\n",
       "8285    0\n",
       "7853    1\n",
       "1095    1\n",
       "6929    1\n",
       "Name: Exited, Length: 2000, dtype: int64"
      ]
     },
     "execution_count": 20,
     "metadata": {},
     "output_type": "execute_result"
    }
   ],
   "source": [
    "y_test"
   ]
  },
  {
   "cell_type": "code",
   "execution_count": 21,
   "id": "41ae1375-5fd0-49da-9e7d-9b252e80af43",
   "metadata": {},
   "outputs": [],
   "source": [
    "from sklearn.preprocessing import StandardScaler"
   ]
  },
  {
   "cell_type": "code",
   "execution_count": 22,
   "id": "34608900-fea4-4de2-a26f-f9bd752c41db",
   "metadata": {},
   "outputs": [],
   "source": [
    "scaler=StandardScaler()"
   ]
  },
  {
   "cell_type": "code",
   "execution_count": 23,
   "id": "dbd16247-1c53-4314-a98a-d2140ee1d0b0",
   "metadata": {},
   "outputs": [],
   "source": [
    "x_train_scaled=scaler.fit_transform(x_train)"
   ]
  },
  {
   "cell_type": "code",
   "execution_count": 24,
   "id": "e0d76cf5-ed44-4351-a35c-18955e8bb41a",
   "metadata": {},
   "outputs": [],
   "source": [
    "x_test_scaled=scaler.fit_transform(x_test)"
   ]
  },
  {
   "cell_type": "code",
   "execution_count": 25,
   "id": "8beeed22-e86e-4a30-b393-2cf8a22710c8",
   "metadata": {},
   "outputs": [
    {
     "data": {
      "text/plain": [
       "array([[ 0.35649971, -0.6557859 ,  0.34567966, ..., -0.57638802,\n",
       "        -0.91324755,  0.91324755],\n",
       "       [-0.20389777,  0.29493847, -0.3483691 , ..., -0.57638802,\n",
       "        -0.91324755,  0.91324755],\n",
       "       [-0.96147213, -1.41636539, -0.69539349, ...,  1.73494238,\n",
       "        -0.91324755,  0.91324755],\n",
       "       ...,\n",
       "       [ 0.86500853, -0.08535128, -1.38944225, ..., -0.57638802,\n",
       "         1.09499335, -1.09499335],\n",
       "       [ 0.15932282,  0.3900109 ,  1.03972843, ..., -0.57638802,\n",
       "        -0.91324755,  0.91324755],\n",
       "       [ 0.47065475,  1.15059039, -1.38944225, ..., -0.57638802,\n",
       "        -0.91324755,  0.91324755]])"
      ]
     },
     "execution_count": 25,
     "metadata": {},
     "output_type": "execute_result"
    }
   ],
   "source": [
    "x_train_scaled"
   ]
  },
  {
   "cell_type": "code",
   "execution_count": 26,
   "id": "c700730c-6073-4db6-b6e1-4e94d468e909",
   "metadata": {},
   "outputs": [],
   "source": [
    "import tensorflow \n",
    "from tensorflow import keras\n",
    "from tensorflow.keras import Sequential\n",
    "from tensorflow.keras.layers import Dense"
   ]
  },
  {
   "cell_type": "code",
   "execution_count": 27,
   "id": "b9c9cf6b-3b90-4822-a41c-16fdea6d7469",
   "metadata": {},
   "outputs": [],
   "source": [
    "model=Sequential()"
   ]
  },
  {
   "cell_type": "code",
   "execution_count": 28,
   "id": "6b3d9bb8-807d-47ff-a076-5e91d403b5dc",
   "metadata": {},
   "outputs": [],
   "source": [
    "model.add(Dense(3,activation=\"sigmoid\",input_dim=13))"
   ]
  },
  {
   "cell_type": "code",
   "execution_count": 29,
   "id": "d903c982-c0b2-4f58-abd9-119e9e45a954",
   "metadata": {},
   "outputs": [],
   "source": [
    "model.add(Dense(1,activation=\"sigmoid\"))"
   ]
  },
  {
   "cell_type": "code",
   "execution_count": 30,
   "id": "9896e70d-1a17-423c-bb22-af74aa3b7e20",
   "metadata": {},
   "outputs": [
    {
     "name": "stdout",
     "output_type": "stream",
     "text": [
      "Model: \"sequential\"\n",
      "_________________________________________________________________\n",
      " Layer (type)                Output Shape              Param #   \n",
      "=================================================================\n",
      " dense (Dense)               (None, 3)                 42        \n",
      "                                                                 \n",
      " dense_1 (Dense)             (None, 1)                 4         \n",
      "                                                                 \n",
      "=================================================================\n",
      "Total params: 46 (184.00 Byte)\n",
      "Trainable params: 46 (184.00 Byte)\n",
      "Non-trainable params: 0 (0.00 Byte)\n",
      "_________________________________________________________________\n"
     ]
    }
   ],
   "source": [
    "model.summary()"
   ]
  },
  {
   "cell_type": "code",
   "execution_count": 31,
   "id": "e43d00bb-fac2-49b7-a4cc-e52c409cebb3",
   "metadata": {},
   "outputs": [],
   "source": [
    "model.compile(loss=\"binary_crossentropy\",optimizer=\"Adam\",metrics=[\"Accuracy\"])"
   ]
  },
  {
   "cell_type": "code",
   "execution_count": 32,
   "id": "bb3dfac3-1f56-4494-ba58-12175285d83a",
   "metadata": {},
   "outputs": [
    {
     "name": "stdout",
     "output_type": "stream",
     "text": [
      "Epoch 1/10\n",
      "250/250 [==============================] - 1s 914us/step - loss: 0.6298 - Accuracy: 0.6696\n",
      "Epoch 2/10\n",
      "250/250 [==============================] - 0s 961us/step - loss: 0.5194 - Accuracy: 0.7947\n",
      "Epoch 3/10\n",
      "250/250 [==============================] - 0s 984us/step - loss: 0.4754 - Accuracy: 0.7945\n",
      "Epoch 4/10\n",
      "250/250 [==============================] - 0s 930us/step - loss: 0.4576 - Accuracy: 0.7945\n",
      "Epoch 5/10\n",
      "250/250 [==============================] - 0s 927us/step - loss: 0.4483 - Accuracy: 0.7945\n",
      "Epoch 6/10\n",
      "250/250 [==============================] - 0s 942us/step - loss: 0.4423 - Accuracy: 0.7947\n",
      "Epoch 7/10\n",
      "250/250 [==============================] - 0s 917us/step - loss: 0.4381 - Accuracy: 0.7951\n",
      "Epoch 8/10\n",
      "250/250 [==============================] - 0s 905us/step - loss: 0.4350 - Accuracy: 0.7995\n",
      "Epoch 9/10\n",
      "250/250 [==============================] - 0s 857us/step - loss: 0.4328 - Accuracy: 0.8036\n",
      "Epoch 10/10\n",
      "250/250 [==============================] - 0s 870us/step - loss: 0.4311 - Accuracy: 0.8060\n"
     ]
    },
    {
     "data": {
      "text/plain": [
       "<keras.src.callbacks.History at 0x215963b3dc0>"
      ]
     },
     "execution_count": 32,
     "metadata": {},
     "output_type": "execute_result"
    }
   ],
   "source": [
    "model.fit(x_train_scaled,y_train,epochs=10)"
   ]
  },
  {
   "cell_type": "code",
   "execution_count": 33,
   "id": "b57af472-189e-45a7-a810-1448f2672750",
   "metadata": {},
   "outputs": [
    {
     "data": {
      "text/plain": [
       "[array([[ 0.04179851, -0.2932216 ,  0.05067573],\n",
       "        [-1.1243756 ,  0.84687865, -2.1104052 ],\n",
       "        [-0.05731969, -0.08200061,  0.23908654],\n",
       "        [-0.4308382 ,  0.39529344,  0.09115018],\n",
       "        [ 0.2088783 , -0.11452378, -0.06054992],\n",
       "        [-0.12239657,  0.02143935,  0.17217505],\n",
       "        [ 0.6955403 , -0.55532026,  0.61764324],\n",
       "        [-0.05584309, -0.21917893, -0.10350303],\n",
       "        [ 0.4134817 , -0.5181034 , -0.11319474],\n",
       "        [-0.12652522,  0.03409505, -0.76586604],\n",
       "        [ 0.20001024, -0.41935852, -0.04004951],\n",
       "        [-0.06072657,  0.02771818, -0.0504684 ],\n",
       "        [ 0.5363603 , -0.5002212 ,  0.04187026]], dtype=float32),\n",
       " array([ 0.4831532, -0.3522359,  0.5832446], dtype=float32)]"
      ]
     },
     "execution_count": 33,
     "metadata": {},
     "output_type": "execute_result"
    }
   ],
   "source": [
    "model.layers[0].get_weights()"
   ]
  },
  {
   "cell_type": "code",
   "execution_count": 34,
   "id": "b1fc2573-7d82-4368-8209-3e2fe76a507f",
   "metadata": {},
   "outputs": [
    {
     "data": {
      "text/plain": [
       "[array([[-1.4284953 ],\n",
       "        [ 0.67519176],\n",
       "        [-0.9963455 ]], dtype=float32),\n",
       " array([-0.42428052], dtype=float32)]"
      ]
     },
     "execution_count": 34,
     "metadata": {},
     "output_type": "execute_result"
    }
   ],
   "source": [
    "model.layers[1].get_weights() #hidden layer"
   ]
  },
  {
   "cell_type": "code",
   "execution_count": 35,
   "id": "69299325-7e0b-445f-a761-ed71d1d26c34",
   "metadata": {},
   "outputs": [
    {
     "name": "stdout",
     "output_type": "stream",
     "text": [
      "63/63 [==============================] - 0s 681us/step\n"
     ]
    }
   ],
   "source": [
    "y_log=model.predict(x_test_scaled)"
   ]
  },
  {
   "cell_type": "code",
   "execution_count": 36,
   "id": "f11a1915-3d53-4abf-bfd3-f9a81f454f5f",
   "metadata": {},
   "outputs": [],
   "source": [
    "y_pred=np.where(y_log>0.5,1,0)"
   ]
  },
  {
   "cell_type": "code",
   "execution_count": 37,
   "id": "3441b433-e651-4950-9421-b1b9615ed808",
   "metadata": {},
   "outputs": [],
   "source": [
    "from sklearn.metrics import accuracy_score,classification_report"
   ]
  },
  {
   "cell_type": "code",
   "execution_count": 38,
   "id": "6cef1832-2549-4d07-930a-c1d6a252b60b",
   "metadata": {},
   "outputs": [
    {
     "data": {
      "text/plain": [
       "0.8115"
      ]
     },
     "execution_count": 38,
     "metadata": {},
     "output_type": "execute_result"
    }
   ],
   "source": [
    "accuracy_score(y_test,y_pred)"
   ]
  },
  {
   "cell_type": "code",
   "execution_count": 39,
   "id": "a26c9bb2-105d-4788-87a2-a0885d93ec9d",
   "metadata": {},
   "outputs": [
    {
     "name": "stdout",
     "output_type": "stream",
     "text": [
      "              precision    recall  f1-score   support\n",
      "\n",
      "           0       0.83      0.97      0.89      1607\n",
      "           1       0.57      0.16      0.25       393\n",
      "\n",
      "    accuracy                           0.81      2000\n",
      "   macro avg       0.70      0.56      0.57      2000\n",
      "weighted avg       0.78      0.81      0.77      2000\n",
      "\n"
     ]
    }
   ],
   "source": [
    "print(classification_report(y_test,y_pred))"
   ]
  },
  {
   "cell_type": "markdown",
   "id": "3ce31409-e83b-4440-bf89-ad4e153e297f",
   "metadata": {},
   "source": [
    "## Improving Model Performance"
   ]
  },
  {
   "cell_type": "code",
   "execution_count": 40,
   "id": "190e81d1-acb9-43b3-97f3-c39a7b9bd166",
   "metadata": {},
   "outputs": [],
   "source": [
    "model2=Sequential()"
   ]
  },
  {
   "cell_type": "code",
   "execution_count": 41,
   "id": "64e3520c-e56e-424d-879a-e0645cf18871",
   "metadata": {},
   "outputs": [],
   "source": [
    "model2.add(Dense(10,activation=\"relu\",input_dim=13))"
   ]
  },
  {
   "cell_type": "code",
   "execution_count": 42,
   "id": "bc517744-bb5b-40ca-bee8-eee320d959a8",
   "metadata": {},
   "outputs": [],
   "source": [
    "model2.add(Dense(1,activation=\"sigmoid\"))"
   ]
  },
  {
   "cell_type": "code",
   "execution_count": 43,
   "id": "803c58b6-2c66-4682-93ec-983fb3da5b26",
   "metadata": {},
   "outputs": [
    {
     "name": "stdout",
     "output_type": "stream",
     "text": [
      "Model: \"sequential_1\"\n",
      "_________________________________________________________________\n",
      " Layer (type)                Output Shape              Param #   \n",
      "=================================================================\n",
      " dense_2 (Dense)             (None, 10)                140       \n",
      "                                                                 \n",
      " dense_3 (Dense)             (None, 1)                 11        \n",
      "                                                                 \n",
      "=================================================================\n",
      "Total params: 151 (604.00 Byte)\n",
      "Trainable params: 151 (604.00 Byte)\n",
      "Non-trainable params: 0 (0.00 Byte)\n",
      "_________________________________________________________________\n"
     ]
    }
   ],
   "source": [
    "model2.summary()"
   ]
  },
  {
   "cell_type": "code",
   "execution_count": 44,
   "id": "74a69105-9a08-417d-83b0-f69191a83441",
   "metadata": {},
   "outputs": [],
   "source": [
    "model2.compile(loss=\"binary_crossentropy\",optimizer=\"Adam\",metrics=[\"Accuracy\"])"
   ]
  },
  {
   "cell_type": "code",
   "execution_count": 45,
   "id": "f8bf9396-f51c-4368-ac2b-e737723b5a82",
   "metadata": {},
   "outputs": [
    {
     "name": "stdout",
     "output_type": "stream",
     "text": [
      "Epoch 1/50\n",
      "200/200 [==============================] - 1s 2ms/step - loss: 0.6212 - Accuracy: 0.6572 - val_loss: 0.5191 - val_Accuracy: 0.7831\n",
      "Epoch 2/50\n",
      "200/200 [==============================] - 0s 1ms/step - loss: 0.4896 - Accuracy: 0.7905 - val_loss: 0.4596 - val_Accuracy: 0.8125\n",
      "Epoch 3/50\n",
      "200/200 [==============================] - 0s 1ms/step - loss: 0.4542 - Accuracy: 0.7994 - val_loss: 0.4361 - val_Accuracy: 0.8181\n",
      "Epoch 4/50\n",
      "200/200 [==============================] - 0s 1ms/step - loss: 0.4365 - Accuracy: 0.8070 - val_loss: 0.4219 - val_Accuracy: 0.8256\n",
      "Epoch 5/50\n",
      "200/200 [==============================] - 0s 1ms/step - loss: 0.4234 - Accuracy: 0.8139 - val_loss: 0.4105 - val_Accuracy: 0.8344\n",
      "Epoch 6/50\n",
      "200/200 [==============================] - 0s 1ms/step - loss: 0.4120 - Accuracy: 0.8186 - val_loss: 0.4010 - val_Accuracy: 0.8363\n",
      "Epoch 7/50\n",
      "200/200 [==============================] - 0s 1ms/step - loss: 0.4016 - Accuracy: 0.8242 - val_loss: 0.3915 - val_Accuracy: 0.8388\n",
      "Epoch 8/50\n",
      "200/200 [==============================] - 0s 1ms/step - loss: 0.3925 - Accuracy: 0.8297 - val_loss: 0.3841 - val_Accuracy: 0.8388\n",
      "Epoch 9/50\n",
      "200/200 [==============================] - 0s 1ms/step - loss: 0.3848 - Accuracy: 0.8355 - val_loss: 0.3781 - val_Accuracy: 0.8419\n",
      "Epoch 10/50\n",
      "200/200 [==============================] - 0s 1ms/step - loss: 0.3787 - Accuracy: 0.8384 - val_loss: 0.3738 - val_Accuracy: 0.8450\n",
      "Epoch 11/50\n",
      "200/200 [==============================] - 0s 1ms/step - loss: 0.3736 - Accuracy: 0.8409 - val_loss: 0.3703 - val_Accuracy: 0.8456\n",
      "Epoch 12/50\n",
      "200/200 [==============================] - 0s 1ms/step - loss: 0.3693 - Accuracy: 0.8428 - val_loss: 0.3672 - val_Accuracy: 0.8456\n",
      "Epoch 13/50\n",
      "200/200 [==============================] - 0s 1ms/step - loss: 0.3660 - Accuracy: 0.8462 - val_loss: 0.3643 - val_Accuracy: 0.8469\n",
      "Epoch 14/50\n",
      "200/200 [==============================] - 0s 1ms/step - loss: 0.3634 - Accuracy: 0.8461 - val_loss: 0.3627 - val_Accuracy: 0.8525\n",
      "Epoch 15/50\n",
      "200/200 [==============================] - 0s 1ms/step - loss: 0.3609 - Accuracy: 0.8478 - val_loss: 0.3605 - val_Accuracy: 0.8519\n",
      "Epoch 16/50\n",
      "200/200 [==============================] - 0s 1ms/step - loss: 0.3586 - Accuracy: 0.8483 - val_loss: 0.3589 - val_Accuracy: 0.8506\n",
      "Epoch 17/50\n",
      "200/200 [==============================] - 0s 1ms/step - loss: 0.3568 - Accuracy: 0.8497 - val_loss: 0.3571 - val_Accuracy: 0.8550\n",
      "Epoch 18/50\n",
      "200/200 [==============================] - 0s 1ms/step - loss: 0.3549 - Accuracy: 0.8512 - val_loss: 0.3557 - val_Accuracy: 0.8556\n",
      "Epoch 19/50\n",
      "200/200 [==============================] - 0s 1ms/step - loss: 0.3535 - Accuracy: 0.8508 - val_loss: 0.3554 - val_Accuracy: 0.8550\n",
      "Epoch 20/50\n",
      "200/200 [==============================] - 0s 1ms/step - loss: 0.3524 - Accuracy: 0.8528 - val_loss: 0.3538 - val_Accuracy: 0.8569\n",
      "Epoch 21/50\n",
      "200/200 [==============================] - 0s 1ms/step - loss: 0.3511 - Accuracy: 0.8530 - val_loss: 0.3525 - val_Accuracy: 0.8556\n",
      "Epoch 22/50\n",
      "200/200 [==============================] - 0s 1ms/step - loss: 0.3496 - Accuracy: 0.8544 - val_loss: 0.3515 - val_Accuracy: 0.8587\n",
      "Epoch 23/50\n",
      "200/200 [==============================] - 0s 1ms/step - loss: 0.3487 - Accuracy: 0.8541 - val_loss: 0.3511 - val_Accuracy: 0.8581\n",
      "Epoch 24/50\n",
      "200/200 [==============================] - 0s 1ms/step - loss: 0.3476 - Accuracy: 0.8539 - val_loss: 0.3513 - val_Accuracy: 0.8594\n",
      "Epoch 25/50\n",
      "200/200 [==============================] - 0s 1ms/step - loss: 0.3469 - Accuracy: 0.8569 - val_loss: 0.3505 - val_Accuracy: 0.8587\n",
      "Epoch 26/50\n",
      "200/200 [==============================] - 0s 1ms/step - loss: 0.3456 - Accuracy: 0.8552 - val_loss: 0.3501 - val_Accuracy: 0.8587\n",
      "Epoch 27/50\n",
      "200/200 [==============================] - 0s 1ms/step - loss: 0.3445 - Accuracy: 0.8553 - val_loss: 0.3491 - val_Accuracy: 0.8575\n",
      "Epoch 28/50\n",
      "200/200 [==============================] - 0s 1ms/step - loss: 0.3436 - Accuracy: 0.8561 - val_loss: 0.3486 - val_Accuracy: 0.8594\n",
      "Epoch 29/50\n",
      "200/200 [==============================] - 0s 1ms/step - loss: 0.3430 - Accuracy: 0.8569 - val_loss: 0.3482 - val_Accuracy: 0.8587\n",
      "Epoch 30/50\n",
      "200/200 [==============================] - 0s 1ms/step - loss: 0.3424 - Accuracy: 0.8577 - val_loss: 0.3481 - val_Accuracy: 0.8550\n",
      "Epoch 31/50\n",
      "200/200 [==============================] - 0s 1ms/step - loss: 0.3418 - Accuracy: 0.8578 - val_loss: 0.3471 - val_Accuracy: 0.8562\n",
      "Epoch 32/50\n",
      "200/200 [==============================] - 0s 1ms/step - loss: 0.3414 - Accuracy: 0.8566 - val_loss: 0.3465 - val_Accuracy: 0.8575\n",
      "Epoch 33/50\n",
      "200/200 [==============================] - 0s 1ms/step - loss: 0.3412 - Accuracy: 0.8562 - val_loss: 0.3461 - val_Accuracy: 0.8575\n",
      "Epoch 34/50\n",
      "200/200 [==============================] - 0s 1ms/step - loss: 0.3406 - Accuracy: 0.8567 - val_loss: 0.3462 - val_Accuracy: 0.8587\n",
      "Epoch 35/50\n",
      "200/200 [==============================] - 0s 1ms/step - loss: 0.3403 - Accuracy: 0.8570 - val_loss: 0.3459 - val_Accuracy: 0.8575\n",
      "Epoch 36/50\n",
      "200/200 [==============================] - 0s 1ms/step - loss: 0.3400 - Accuracy: 0.8573 - val_loss: 0.3461 - val_Accuracy: 0.8581\n",
      "Epoch 37/50\n",
      "200/200 [==============================] - 0s 1ms/step - loss: 0.3396 - Accuracy: 0.8566 - val_loss: 0.3458 - val_Accuracy: 0.8575\n",
      "Epoch 38/50\n",
      "200/200 [==============================] - 0s 1ms/step - loss: 0.3395 - Accuracy: 0.8575 - val_loss: 0.3456 - val_Accuracy: 0.8575\n",
      "Epoch 39/50\n",
      "200/200 [==============================] - 0s 1ms/step - loss: 0.3390 - Accuracy: 0.8597 - val_loss: 0.3450 - val_Accuracy: 0.8606\n",
      "Epoch 40/50\n",
      "200/200 [==============================] - 0s 1ms/step - loss: 0.3388 - Accuracy: 0.8573 - val_loss: 0.3445 - val_Accuracy: 0.8581\n",
      "Epoch 41/50\n",
      "200/200 [==============================] - 0s 1ms/step - loss: 0.3386 - Accuracy: 0.8575 - val_loss: 0.3447 - val_Accuracy: 0.8587\n",
      "Epoch 42/50\n",
      "200/200 [==============================] - 0s 1ms/step - loss: 0.3383 - Accuracy: 0.8578 - val_loss: 0.3444 - val_Accuracy: 0.8619\n",
      "Epoch 43/50\n",
      "200/200 [==============================] - 0s 1ms/step - loss: 0.3381 - Accuracy: 0.8581 - val_loss: 0.3442 - val_Accuracy: 0.8600\n",
      "Epoch 44/50\n",
      "200/200 [==============================] - 0s 1ms/step - loss: 0.3378 - Accuracy: 0.8578 - val_loss: 0.3446 - val_Accuracy: 0.8587\n",
      "Epoch 45/50\n",
      "200/200 [==============================] - 0s 1ms/step - loss: 0.3379 - Accuracy: 0.8586 - val_loss: 0.3447 - val_Accuracy: 0.8581\n",
      "Epoch 46/50\n",
      "200/200 [==============================] - 0s 1ms/step - loss: 0.3376 - Accuracy: 0.8584 - val_loss: 0.3446 - val_Accuracy: 0.8587\n",
      "Epoch 47/50\n",
      "200/200 [==============================] - 0s 1ms/step - loss: 0.3373 - Accuracy: 0.8598 - val_loss: 0.3440 - val_Accuracy: 0.8575\n",
      "Epoch 48/50\n",
      "200/200 [==============================] - 0s 1ms/step - loss: 0.3371 - Accuracy: 0.8592 - val_loss: 0.3446 - val_Accuracy: 0.8575\n",
      "Epoch 49/50\n",
      "200/200 [==============================] - 0s 1ms/step - loss: 0.3369 - Accuracy: 0.8587 - val_loss: 0.3441 - val_Accuracy: 0.8600\n",
      "Epoch 50/50\n",
      "200/200 [==============================] - 0s 1ms/step - loss: 0.3368 - Accuracy: 0.8598 - val_loss: 0.3435 - val_Accuracy: 0.8600\n"
     ]
    }
   ],
   "source": [
    "history=model2.fit(x_train_scaled,y_train,epochs=50,validation_split=0.2)"
   ]
  },
  {
   "cell_type": "code",
   "execution_count": 46,
   "id": "e9e2d532-ce95-44a6-b34f-17bd70f4cf18",
   "metadata": {},
   "outputs": [
    {
     "name": "stdout",
     "output_type": "stream",
     "text": [
      "63/63 [==============================] - 0s 712us/step\n"
     ]
    }
   ],
   "source": [
    "y_log2=model2.predict(x_test_scaled)"
   ]
  },
  {
   "cell_type": "code",
   "execution_count": 48,
   "id": "af043c60-88a6-4239-b11a-58eec5dd0cca",
   "metadata": {},
   "outputs": [],
   "source": [
    "y_pred2=np.where(y_log2>0.5,1,0)"
   ]
  },
  {
   "cell_type": "code",
   "execution_count": 50,
   "id": "163d2a16-3490-42b0-902f-2c33c78ba3d2",
   "metadata": {},
   "outputs": [
    {
     "data": {
      "text/plain": [
       "0.86"
      ]
     },
     "execution_count": 50,
     "metadata": {},
     "output_type": "execute_result"
    }
   ],
   "source": [
    "accuracy_score(y_test,y_pred2)"
   ]
  },
  {
   "cell_type": "code",
   "execution_count": 55,
   "id": "6367bedb-b47f-4d09-8d41-a57c32aeecdb",
   "metadata": {},
   "outputs": [
    {
     "name": "stdout",
     "output_type": "stream",
     "text": [
      "              precision    recall  f1-score   support\n",
      "\n",
      "           0       0.88      0.96      0.92      1607\n",
      "           1       0.73      0.46      0.57       393\n",
      "\n",
      "    accuracy                           0.86      2000\n",
      "   macro avg       0.80      0.71      0.74      2000\n",
      "weighted avg       0.85      0.86      0.85      2000\n",
      "\n"
     ]
    }
   ],
   "source": [
    "print(classification_report(y_test,y_pred2))"
   ]
  },
  {
   "cell_type": "code",
   "execution_count": 52,
   "id": "5c19bf27-274f-4df6-bea8-7cd0e1b7fffc",
   "metadata": {},
   "outputs": [
    {
     "data": {
      "text/plain": [
       "[<matplotlib.lines.Line2D at 0x215996887f0>]"
      ]
     },
     "execution_count": 52,
     "metadata": {},
     "output_type": "execute_result"
    },
    {
     "data": {
      "image/png": "[encoded data removed]",
      "text/plain": [
       "<Figure size 640x480 with 1 Axes>"
      ]
     },
     "metadata": {},
     "output_type": "display_data"
    }
   ],
   "source": [
    "import matplotlib.pyplot as plt\n",
    "plt.plot(history.history['loss'])\n",
    "plt.plot(history.history['val_loss'])\n"
   ]
  },
  {
   "cell_type": "code",
   "execution_count": 54,
   "id": "e89dcfa8-e099-45ae-a746-eb8745274d94",
   "metadata": {},
   "outputs": [
    {
     "data": {
      "text/plain": [
       "[<matplotlib.lines.Line2D at 0x2159bede400>]"
      ]
     },
     "execution_count": 54,
     "metadata": {},
     "output_type": "execute_result"
    },
    {
     "data": {
      "image/png": "[encoded data removed]",
      "text/plain": [
       "<Figure size 640x480 with 1 Axes>"
      ]
     },
     "metadata": {},
     "output_type": "display_data"
    }
   ],
   "source": [
    "plt.plot(history.history['Accuracy'])\n",
    "plt.plot(history.history['val_Accuracy'])"
   ]
  },
  {
   "cell_type": "code",
   "execution_count": null,
   "id": "f5ae04d0-b9ee-4db3-ad31-4fdcfef227e8",
   "metadata": {},
   "outputs": [],
   "source": []
  }
 ],
 "metadata": {
  "kernelspec": {
   "display_name": "Python 3 (ipykernel)",
   "language": "python",
   "name": "python3"
  },
  "language_info": {
   "codemirror_mode": {
    "name": "ipython",
    "version": 3
   },
   "file_extension": ".py",
   "mimetype": "text/x-python",
   "name": "python",
   "nbconvert_exporter": "python",
   "pygments_lexer": "ipython3",
   "version": "3.8.10"
  }
 },
 "nbformat": 4,
 "nbformat_minor": 5
}
